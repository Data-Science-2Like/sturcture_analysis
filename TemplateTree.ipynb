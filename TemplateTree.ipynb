{
 "cells": [
  {
   "cell_type": "code",
   "execution_count": 17,
   "id": "aee251e5-016a-472e-8e51-fc7f60ac6d57",
   "metadata": {},
   "outputs": [],
   "source": [
    "#use anytree instead, it has nice prints / plots\n",
    "#https://pypi.org/project/anytree/\n",
    "class Tree():\n",
    "    def __init__(self, data, parent):\n",
    "        self.data = data\n",
    "        self.parent = parent\n",
    "        self.children = []\n",
    "    def __eq__(self, other):\n",
    "        if isinstance(other, Tree):\n",
    "            return self.data == other.data\n",
    "        else:\n",
    "            return False\n",
    "    def __repr__(self):\n",
    "        return \"Tree(\"+str(self.data)+\",\"+str(self.children)+\")\"\n",
    "    def __str__(self):\n",
    "        return self.__repr__()\n",
    "    def update_parent(self, new):\n",
    "        self.parent = new\n",
    "    def add_child(self, c):\n",
    "        self.children.append(c)\n",
    "    def rm_child(self, c):\n",
    "        self.children.remove(c)\n",
    "    "
   ]
  },
  {
   "cell_type": "code",
   "execution_count": 18,
   "id": "2f56cc26-fee4-4524-9554-e3edab7c8a2a",
   "metadata": {},
   "outputs": [],
   "source": [
    "#sl subtemplate of bl (matching to the same or a subset of patterns)\n",
    "def sub(sl, bl):\n",
    "    if sl==bl: return True\n",
    "    if len(bl)==0: return False\n",
    "    if len(sl)==0:\n",
    "        b, *bs = bl\n",
    "        if b == \"*\":\n",
    "            return sub(sl, bs)\n",
    "        return False\n",
    "    s, *ss = sl\n",
    "    b, *bs = bl\n",
    "    if b==\"*\":\n",
    "        if s == \"*\":\n",
    "            return sub(ss, bs) or sub(ss, bl)\n",
    "        else:\n",
    "            return sub(ss, bs) or sub(ss, bl) or sub(sl, bs)\n",
    "    elif b==\"_\":\n",
    "        if s==\"*\": return False\n",
    "        else: return sub(ss, bs)\n",
    "    else:\n",
    "        if s == \"*\" or s == \"_\": return False\n",
    "        elif s == b: return sub(ss, bs)\n",
    "        else: return False"
   ]
  },
  {
   "cell_type": "code",
   "execution_count": 19,
   "id": "fcaa3d6d-b411-4517-a3ac-d0be91d50671",
   "metadata": {},
   "outputs": [
    {
     "name": "stdout",
     "output_type": "stream",
     "text": [
      "False\n",
      "True\n",
      "False\n",
      "False\n",
      "False\n",
      "True\n",
      "False\n",
      "True\n"
     ]
    }
   ],
   "source": [
    "#test cases\n",
    "print(sub([\"I\", \"_\"],[\"I\", \"RW\"]))\n",
    "print(sub([\"I\", \"RW\"], [\"I\", \"_\"]))\n",
    "print(sub([\"I\", \"_\"],[\"I\", \"RW\", \"M\"]))\n",
    "print(sub([\"I\", \"RW\", \"M\"], [\"I\", \"_\"]))\n",
    "print(sub([\"*\", \"_\"],[\"I\", \"RW\", \"M\"]))\n",
    "print(sub([\"I\", \"RW\", \"M\"],[\"*\", \"_\"]))\n",
    "print(sub([\"*\"],[\"I\", \"RW\", \"*\"]))\n",
    "print(sub([\"I\", \"RW\", \"*\"], [\"*\"]))"
   ]
  },
  {
   "cell_type": "code",
   "execution_count": 20,
   "id": "3013c3a7-b22d-4649-86de-dc102571612a",
   "metadata": {},
   "outputs": [],
   "source": [
    "#get the parent candidate for a template, i.e. a node with a template that matches a superset but no child matches a superset\n",
    "def get_parent_can(tree, template):\n",
    "    if tree.data == template:\n",
    "        return tree\n",
    "    if sub(template, tree.data):\n",
    "        if len(tree.children)==0:\n",
    "            return tree\n",
    "        tmp = [get_parent_can(c, template) for c in tree.children]\n",
    "        tmp = [x for x in tmp if x!=False]\n",
    "        if len(tmp)==0:\n",
    "            return tree\n",
    "        elif len(tmp)==1:\n",
    "            return tmp[0]\n",
    "        else:\n",
    "            raise ValueError('more than one child can be parent of '+str(template)+\"   \"+str(tree.children))\n",
    "    else:\n",
    "        return False"
   ]
  },
  {
   "cell_type": "code",
   "execution_count": 21,
   "id": "e5da4349-158e-47db-8f17-caa142ef0496",
   "metadata": {},
   "outputs": [],
   "source": [
    "#insert templeate into the tree:\n",
    "#find parent candidate\n",
    "#if it has the same template noting changes\n",
    "#otherwise check wether some children need to be reorganized and insert the new node properly\n",
    "def update_tree(tree, template):\n",
    "    new_parent = get_parent_can(tree, template)\n",
    "    if new_parent.data == template:\n",
    "        return tree\n",
    "    tmp = [sub(c.data, template) for c in new_parent.children]\n",
    "    if any(tmp):\n",
    "        rm = []\n",
    "        new_node = Tree(template, new_parent)\n",
    "        for i in range(len(tmp)):\n",
    "            if tmp[i]:\n",
    "                moved = new_parent.children[i]\n",
    "                rm.append(moved)\n",
    "                new_node.add_child(moved)\n",
    "                moved.update_parent(new_node)\n",
    "        for i in rm:\n",
    "            new_parent.rm_child(i)\n",
    "        new_parent.add_child(new_node)\n",
    "    else:\n",
    "        new_parent.add_child(Tree(template, new_parent))"
   ]
  },
  {
   "cell_type": "code",
   "execution_count": 22,
   "id": "25a2bade-50c1-4a00-bcf3-bdce393fc4c4",
   "metadata": {},
   "outputs": [
    {
     "data": {
      "text/plain": [
       "Tree(['*'],[])"
      ]
     },
     "execution_count": 22,
     "metadata": {},
     "output_type": "execute_result"
    }
   ],
   "source": [
    "#each template is a child, only the root template \"*\" is more general\n",
    "templates = {(\"I\",\"M\",\"C\"),(\"I\",\"RW\",\"M\",\"C\"),(\"I\",\"M\",\"M\",\"F\",\"C\")}\n",
    "tree = Tree([\"*\"], None)\n",
    "tree"
   ]
  },
  {
   "cell_type": "code",
   "execution_count": 23,
   "id": "f27a159e-68f4-47bd-a356-b1d84fbb6e24",
   "metadata": {},
   "outputs": [],
   "source": [
    "for templ in templates:\n",
    "    update_tree(tree, templ)"
   ]
  },
  {
   "cell_type": "code",
   "execution_count": 24,
   "id": "0e9b4ede-d846-4b23-b9fd-a0a3a771ef1b",
   "metadata": {},
   "outputs": [
    {
     "data": {
      "text/plain": [
       "Tree(['*'],[Tree(('I', 'M', 'C'),[]), Tree(('I', 'RW', 'M', 'C'),[]), Tree(('I', 'M', 'M', 'F', 'C'),[])])"
      ]
     },
     "execution_count": 24,
     "metadata": {},
     "output_type": "execute_result"
    }
   ],
   "source": [
    "tree"
   ]
  },
  {
   "cell_type": "code",
   "execution_count": 25,
   "id": "cbc11d7e-4bbd-4468-ada4-76e3cea8a1d8",
   "metadata": {},
   "outputs": [],
   "source": [
    "#need to insert new templates as inner nodes into the tree, as they are more general than the current leaves\n",
    "templates2 = {(\"I\",\"*\",\"C\"),(\"I\",\"RW\",\"*\",\"C\"),(\"I\",\"RW\",\"M\", \"*\",\"C\")}\n",
    "for templ in templates2:\n",
    "    update_tree(tree, templ)"
   ]
  },
  {
   "cell_type": "code",
   "execution_count": 26,
   "id": "78349922-e341-4f64-98aa-32b2ca26fbf1",
   "metadata": {},
   "outputs": [
    {
     "data": {
      "text/plain": [
       "Tree(['*'],[Tree(('I', '*', 'C'),[Tree(('I', 'M', 'C'),[]), Tree(('I', 'M', 'M', 'F', 'C'),[]), Tree(('I', 'RW', '*', 'C'),[Tree(('I', 'RW', 'M', '*', 'C'),[Tree(('I', 'RW', 'M', 'C'),[])])])])])"
      ]
     },
     "execution_count": 26,
     "metadata": {},
     "output_type": "execute_result"
    }
   ],
   "source": [
    "tree"
   ]
  },
  {
   "cell_type": "code",
   "execution_count": 27,
   "id": "ee2b6927-04e4-47ff-acdc-881cfbaf42d9",
   "metadata": {},
   "outputs": [],
   "source": [
    "from anytree import Node, RenderTree"
   ]
  },
  {
   "cell_type": "code",
   "execution_count": 28,
   "id": "7c65922e-c0ae-49fd-88b5-0f0a660760f6",
   "metadata": {},
   "outputs": [],
   "source": [
    "def t2anytree(tree):\n",
    "    if len(tree.children)>0:\n",
    "        ch_nodes = [t2anytree(x) for x in tree.children]\n",
    "        return Node(str(tree.data), children=ch_nodes)\n",
    "    else:\n",
    "        return Node(str(tree.data))"
   ]
  },
  {
   "cell_type": "code",
   "execution_count": 29,
   "id": "97993481-9773-492e-b50f-7e273d3ee919",
   "metadata": {},
   "outputs": [],
   "source": [
    "atree = t2anytree(tree)"
   ]
  },
  {
   "cell_type": "code",
   "execution_count": 30,
   "id": "7432edae-3df2-41f5-927f-1bb4523e03a7",
   "metadata": {},
   "outputs": [
    {
     "name": "stdout",
     "output_type": "stream",
     "text": [
      "Node(\"/['*']\")\n",
      "└── Node(\"/['*']/('I', '*', 'C')\")\n",
      "    ├── Node(\"/['*']/('I', '*', 'C')/('I', 'M', 'C')\")\n",
      "    ├── Node(\"/['*']/('I', '*', 'C')/('I', 'M', 'M', 'F', 'C')\")\n",
      "    └── Node(\"/['*']/('I', '*', 'C')/('I', 'RW', '*', 'C')\")\n",
      "        └── Node(\"/['*']/('I', '*', 'C')/('I', 'RW', '*', 'C')/('I', 'RW', 'M', '*', 'C')\")\n",
      "            └── Node(\"/['*']/('I', '*', 'C')/('I', 'RW', '*', 'C')/('I', 'RW', 'M', '*', 'C')/('I', 'RW', 'M', 'C')\")\n"
     ]
    }
   ],
   "source": [
    "print(RenderTree(atree))"
   ]
  },
  {
   "cell_type": "code",
   "execution_count": 31,
   "id": "8f779043-0164-476b-ad87-58f74f25b206",
   "metadata": {},
   "outputs": [
    {
     "name": "stdout",
     "output_type": "stream",
     "text": [
      "['*']\n",
      "└── ('I', '*', 'C')\n",
      "    ├── ('I', 'M', 'C')\n",
      "    ├── ('I', 'M', 'M', 'F', 'C')\n",
      "    └── ('I', 'RW', '*', 'C')\n",
      "        └── ('I', 'RW', 'M', '*', 'C')\n",
      "            └── ('I', 'RW', 'M', 'C')\n"
     ]
    }
   ],
   "source": [
    "for pre, _, node in RenderTree(atree):\n",
    "    print(\"%s%s\" % (pre, node.name))"
   ]
  },
  {
   "cell_type": "code",
   "execution_count": 32,
   "id": "f29961f9-95b6-4c23-b19b-69819d94b44e",
   "metadata": {},
   "outputs": [],
   "source": [
    "from anytree.exporter import DotExporter\n",
    "# graphviz needs to be installed for the next line!, #N: via apt, not pip\n",
    "DotExporter(atree).to_picture(\"tree.png\")"
   ]
  },
  {
   "cell_type": "code",
   "execution_count": null,
   "id": "567ff9fe-dd36-4403-b76e-625d00b8bb6a",
   "metadata": {},
   "outputs": [],
   "source": []
  }
 ],
 "metadata": {
  "kernelspec": {
   "display_name": "Python 3 (ipykernel)",
   "language": "python",
   "name": "python3"
  },
  "language_info": {
   "codemirror_mode": {
    "name": "ipython",
    "version": 3
   },
   "file_extension": ".py",
   "mimetype": "text/x-python",
   "name": "python",
   "nbconvert_exporter": "python",
   "pygments_lexer": "ipython3",
   "version": "3.8.10"
  }
 },
 "nbformat": 4,
 "nbformat_minor": 5
}
